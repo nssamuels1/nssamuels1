{
  "nbformat": 4,
  "nbformat_minor": 0,
  "metadata": {
    "colab": {
      "name": "your_football _team_sucks.ipynb",
      "provenance": [],
      "include_colab_link": true
    },
    "kernelspec": {
      "display_name": "Python 3",
      "name": "python3"
    },
    "language_info": {
      "name": "python"
    }
  },
  "cells": [
    {
      "cell_type": "markdown",
      "metadata": {
        "id": "view-in-github",
        "colab_type": "text"
      },
      "source": [
        "<a href=\"https://colab.research.google.com/github/nssamuels1/nssamuels1/blob/main/your_football__team_sucks.ipynb\" target=\"_parent\"><img src=\"https://colab.research.google.com/assets/colab-badge.svg\" alt=\"Open In Colab\"/></a>"
      ]
    },
    {
      "cell_type": "code",
      "metadata": {
        "colab": {
          "base_uri": "https://localhost:8080/"
        },
        "id": "1ZZLz65a0QSp",
        "outputId": "f0417a0b-f7d8-45d6-8f3a-6908ea03879a"
      },
      "source": [
        "print('Welcome to the Quiz! Let us do a Quick Knowledge Assessment')\n",
        "answer=input('Are you ready to play? (yes/no) :')\n",
        "\n",
        "\n",
        "if answer.lower()=='yes':\n",
        "    answer=input('Question 1: What is your Favorite food?')\n",
        "    if answer.lower()=='pie':\n",
        "        print('correct')\n",
        "    else:\n",
        "        print('Wrong Answer :(')\n",
        " \n",
        "    answer=input('Question 2: Do you follow any famous chefs? ')\n",
        "    if answer.lower()=='yes':\n",
        "        print('correct')\n",
        "    else:\n",
        "        print('Wrong Answer :(')\n",
        " \n",
        "    answer=input('Question 3: What is the name of your favorite cooking channel?')\n",
        "    if answer.lower()=='python':\n",
        "        print('correct')\n",
        "    else:\n",
        "        print('Wrong Answer :(')\n",
        "\n",
        "    answer=input('Question 4: What is the name of your favorite cooking channel?')\n",
        "    if answer.lower()=='python':\n",
        "        print('correct')\n",
        "    else:\n",
        "        print('Wrong Answer :(')\n",
        "\n",
        "    answer=input('Question 5: What is the name of your favorite cooking channel?')\n",
        "    if answer.lower()=='python':\n",
        "        print('correct')\n",
        "    else:\n",
        "        print('Wrong Answer :(')\n",
        "\n",
        "    answer=input('Question 6: What is the name of your favorite cooking channel?')\n",
        "    if answer.lower()=='python':\n",
        "        print('correct')\n",
        "    else:\n",
        "        print('Wrong Answer :(')\n",
        "\n",
        "    answer=input('Question 7: What is the name of your favorite cooking channel?')\n",
        "    if answer.lower()=='python':\n",
        "        print('correct')\n",
        "    else:\n",
        "        print('Wrong Answer :(')\n",
        "\n",
        "    answer=input('Question 8: What is the name of your favorite cooking channel?')\n",
        "    if answer.lower()=='python':\n",
        "        print('correct')\n",
        "    else:\n",
        "        print('Wrong Answer :(')\n",
        "\n",
        "    answer=input('Question 9: What is the name of your favorite cooking channel?')\n",
        "    if answer.lower()=='python':\n",
        "        print('correct')\n",
        "    else:\n",
        "        print('Wrong Answer :(')\n",
        "\n",
        "    answer=input('Question 10: What is the name of your favorite cooking channel?')\n",
        "    if answer.lower()=='python':\n",
        "        print('correct')\n",
        "    else:\n",
        "        print('Wrong Answer :(')\n",
        " \n",
        "\n",
        "print('Thank you for Playing this quiz game!')\n",
        "print('BYE!')"
      ],
      "execution_count": null,
      "outputs": [
        {
          "output_type": "stream",
          "name": "stdout",
          "text": [
            "Welcome to the Quiz! Let us do a Quick Knowledge Assessment\n",
            "Are you ready to play? (yes/no) :yes\n",
            "Question 1: What is your Favorite food?oxtails\n",
            "Wrong Answer :(\n",
            "Question 2: Do you follow any famous chefs? no\n",
            "Wrong Answer :(\n",
            "Question 3: What is the name of your favorite cooking channel?none\n",
            "Wrong Answer :(\n",
            "Question 4: What is the name of your favorite cooking channel? food network\n",
            "Wrong Answer :(\n",
            "Question 5: What is the name of your favorite cooking channel?own\n",
            "Wrong Answer :(\n",
            "Question 6: What is the name of your favorite cooking channel?none\n",
            "Wrong Answer :(\n",
            "Question 7: What is the name of your favorite cooking channel?na\n",
            "Wrong Answer :(\n",
            "Question 8: What is the name of your favorite cooking channel?na\n",
            "Wrong Answer :(\n",
            "Question 9: What is the name of your favorite cooking channel?na\n",
            "Wrong Answer :(\n",
            "Question 10: What is the name of your favorite cooking channel?no\n",
            "Wrong Answer :(\n",
            "Thank you for Playing this quiz game!\n",
            "BYE!\n"
          ]
        }
      ]
    }
  ]
}